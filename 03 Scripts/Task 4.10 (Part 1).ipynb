{
 "cells": [
  {
   "cell_type": "markdown",
   "id": "b87743ea-10a7-4ac2-b9c8-a5da7179cba5",
   "metadata": {},
   "source": [
    "### Importing Libraries"
   ]
  },
  {
   "cell_type": "code",
   "execution_count": 2,
   "id": "42eb002c-9fb7-4aa6-9f1b-0cc21b616fb9",
   "metadata": {},
   "outputs": [],
   "source": [
    "# Importing libraries\n",
    "import pandas as pd\n",
    "import numpy as np\n",
    "import os\n",
    "import matplotlib.pyplot as plt\n",
    "import seaborn as sns\n",
    "import scipy"
   ]
  },
  {
   "cell_type": "markdown",
   "id": "03630fff-48ee-4da4-bbcc-61b5b8758319",
   "metadata": {},
   "source": [
    "### Importing Data"
   ]
  },
  {
   "cell_type": "code",
   "execution_count": 4,
   "id": "99d8cff6-7064-4cf9-9264-f91962945ba1",
   "metadata": {},
   "outputs": [],
   "source": [
    "# Path\n",
    "path= r\"C:\\Users\\nabar\\OneDrive\\Documents\\03-2025 Instacart Basket Analysis\"\n",
    "# Dataframe\n",
    "df = pd.read_pickle(os.path.join(path, '02 Data', 'Prepared Data', 'ords_prods_cust_merge.pkl'))"
   ]
  },
  {
   "cell_type": "markdown",
   "id": "9d47aaec-af86-4997-abc5-43c482c5a970",
   "metadata": {},
   "source": [
    "### Data Security "
   ]
  },
  {
   "cell_type": "markdown",
   "id": "ba4559a2-4118-451a-8d84-cfe54b87daae",
   "metadata": {},
   "source": [
    "Since this dataset contains personally identifiable information (PII), such as First Name, Last Name, Gender, STATE, Age, and date_joined, it’s crucial to address security risks before proceeding with analysis. Here are key steps to ensure data protection and compliance with privacy regulations:\n",
    "\n",
    "1. Remove or Anonymize PII Data:\n",
    "Drop columns like First Name and Last Name unless absolutely necessary.\n",
    "Hash or encrypt identifiers (user_id) if customer tracking is required while maintaining anonymity.\n",
    "Generalize geographic data (STATE) to regions instead of specific states.\n",
    "\n",
    "2. Apply Data Access Controls:\n",
    "Restrict dataset access to authorized personnel only.\n",
    "Ensure the dataset is stored securely with encryption and access logs.\n",
    "\n",
    "3. Ensure Compliance with Data Regulations:\n",
    "If this data includes customer information from various locations, consider compliance with GDPR (Europe), CCPA (California), and other applicable regulations.\n",
    "\n",
    "4. Secure Data in Transit and Storage:\n",
    "Use secure data transmission protocols.\n",
    "Store sensitive data in encrypted databases."
   ]
  },
  {
   "cell_type": "code",
   "execution_count": 8,
   "id": "a2cf9ebf-4a47-45f3-a407-8d7a6a268e39",
   "metadata": {},
   "outputs": [
    {
     "data": {
      "text/plain": [
       "STATE\n",
       "Pennsylvania            667082\n",
       "California              659783\n",
       "Rhode Island            656913\n",
       "Georgia                 656389\n",
       "New Mexico              654494\n",
       "Arizona                 653964\n",
       "North Carolina          651900\n",
       "Oklahoma                651739\n",
       "Alaska                  648495\n",
       "Minnesota               647825\n",
       "Massachusetts           646358\n",
       "Wyoming                 644255\n",
       "Virginia                641421\n",
       "Missouri                640732\n",
       "Texas                   640394\n",
       "Colorado                639280\n",
       "Maine                   638583\n",
       "North Dakota            638491\n",
       "Alabama                 638003\n",
       "Kansas                  637538\n",
       "Louisiana               637482\n",
       "Delaware                637024\n",
       "South Carolina          636754\n",
       "Oregon                  636425\n",
       "Arkansas                636144\n",
       "Nevada                  636139\n",
       "New York                635983\n",
       "Montana                 635265\n",
       "South Dakota            633772\n",
       "Illinois                633024\n",
       "Hawaii                  632901\n",
       "Washington              632852\n",
       "Mississippi             632675\n",
       "Kentucky                632490\n",
       "Michigan                630928\n",
       "Florida                 629027\n",
       "Ohio                    628319\n",
       "Wisconsin               628108\n",
       "New Jersey              627692\n",
       "Indiana                 627282\n",
       "Maryland                626579\n",
       "Nebraska                625813\n",
       "Iowa                    625493\n",
       "Connecticut             623022\n",
       "Tennessee               617873\n",
       "New Hampshire           615378\n",
       "District of Columbia    613695\n",
       "West Virginia           612296\n",
       "Utah                    611941\n",
       "Vermont                 611725\n",
       "Idaho                   607119\n",
       "Name: count, dtype: int64"
      ]
     },
     "execution_count": 8,
     "metadata": {},
     "output_type": "execute_result"
    }
   ],
   "source": [
    "df['STATE'].value_counts(dropna=False)"
   ]
  },
  {
   "cell_type": "code",
   "execution_count": 9,
   "id": "ace879b1-1b4a-4194-a483-39741ae6df83",
   "metadata": {},
   "outputs": [],
   "source": [
    "# 4 geographic region\n",
    "Northeast= ['Maine', 'New Hampshire', 'Vermont', 'Massachusetts', 'Rhode Island', 'Connecticut', 'New York', 'Pennsylvania', 'New Jersey']\n",
    "Midwest= ['Wisconsin', 'Michigan', 'Illinois', 'Indiana', 'Ohio', 'North Dakota', 'South Dakota', 'Nebraska', 'Kansas', 'Minnesota', 'Iowa', 'Missouri']\n",
    "South= ['Delaware','Maryland','District of Columbia','Virginia','West Virginia','North Carolina','South Carolina','Georgia','Florida','Kentucky','Tennessee','Mississippi','Alabama','Oklahoma','Texas','Arkansas','Louisiana']\n",
    "West= ['Idaho','Montana','Wyoming','Nevada','Utah','Colorado','Arizona','New Mexico','Alaska','Washington','Oregon','California','Hawaii']\n"
   ]
  },
  {
   "cell_type": "code",
   "execution_count": 10,
   "id": "741cfb7e-3df3-4945-82f1-b1d4e995b0d6",
   "metadata": {},
   "outputs": [],
   "source": [
    "# Creat new Region column\n",
    "df.loc[df['STATE'].isin(Northeast), 'region'] = 'Northeast'\n",
    "df.loc[df['STATE'].isin(Midwest), 'region'] = 'Midwest'\n",
    "df.loc[df['STATE'].isin(South), 'region'] = 'South'\n",
    "df.loc[df['STATE'].isin(West), 'region'] = 'West'"
   ]
  },
  {
   "cell_type": "code",
   "execution_count": 11,
   "id": "f88c37e9-d2d4-4a72-89ec-59873ef7e91b",
   "metadata": {},
   "outputs": [
    {
     "data": {
      "text/plain": [
       "region\n",
       "South        10791885\n",
       "West          8292913\n",
       "Midwest       7597325\n",
       "Northeast     5722736\n",
       "Name: count, dtype: int64"
      ]
     },
     "execution_count": 11,
     "metadata": {},
     "output_type": "execute_result"
    }
   ],
   "source": [
    "# Cheching the output\n",
    "df['region'].value_counts(dropna=False)"
   ]
  },
  {
   "cell_type": "code",
   "execution_count": 12,
   "id": "123004cc-bbe2-4295-9df7-7b7363521f55",
   "metadata": {},
   "outputs": [],
   "source": [
    "# Creating crosstab \n",
    "crosstab = pd.crosstab(df['region'], df['spender_flag'], dropna = False)\n",
    "# Saving crosstab to clipboard\n",
    "crosstab.to_clipboard()"
   ]
  },
  {
   "cell_type": "code",
   "execution_count": 13,
   "id": "6250e7f7-21a1-4724-9fad-91f7266e745b",
   "metadata": {},
   "outputs": [
    {
     "data": {
      "text/html": [
       "<div>\n",
       "<style scoped>\n",
       "    .dataframe tbody tr th:only-of-type {\n",
       "        vertical-align: middle;\n",
       "    }\n",
       "\n",
       "    .dataframe tbody tr th {\n",
       "        vertical-align: top;\n",
       "    }\n",
       "\n",
       "    .dataframe thead th {\n",
       "        text-align: right;\n",
       "    }\n",
       "</style>\n",
       "<table border=\"1\" class=\"dataframe\">\n",
       "  <thead>\n",
       "    <tr style=\"text-align: right;\">\n",
       "      <th>spender_flag</th>\n",
       "      <th>High_spender</th>\n",
       "      <th>Low_spender</th>\n",
       "    </tr>\n",
       "    <tr>\n",
       "      <th>region</th>\n",
       "      <th></th>\n",
       "      <th></th>\n",
       "    </tr>\n",
       "  </thead>\n",
       "  <tbody>\n",
       "    <tr>\n",
       "      <th>Midwest</th>\n",
       "      <td>155975</td>\n",
       "      <td>7441350</td>\n",
       "    </tr>\n",
       "    <tr>\n",
       "      <th>Northeast</th>\n",
       "      <td>108225</td>\n",
       "      <td>5614511</td>\n",
       "    </tr>\n",
       "    <tr>\n",
       "      <th>South</th>\n",
       "      <td>209691</td>\n",
       "      <td>10582194</td>\n",
       "    </tr>\n",
       "    <tr>\n",
       "      <th>West</th>\n",
       "      <td>160354</td>\n",
       "      <td>8132559</td>\n",
       "    </tr>\n",
       "  </tbody>\n",
       "</table>\n",
       "</div>"
      ],
      "text/plain": [
       "spender_flag  High_spender  Low_spender\n",
       "region                                 \n",
       "Midwest             155975      7441350\n",
       "Northeast           108225      5614511\n",
       "South               209691     10582194\n",
       "West                160354      8132559"
      ]
     },
     "execution_count": 13,
     "metadata": {},
     "output_type": "execute_result"
    }
   ],
   "source": [
    "crosstab"
   ]
  },
  {
   "cell_type": "code",
   "execution_count": 14,
   "id": "08badbae-b0f3-4270-a7fb-8e251b576e00",
   "metadata": {},
   "outputs": [
    {
     "data": {
      "text/plain": [
       "Text(0, 0.5, 'Count')"
      ]
     },
     "execution_count": 14,
     "metadata": {},
     "output_type": "execute_result"
    },
    {
     "data": {
      "image/png": "[encoded data removed]",
      "text/plain": [
       "<Figure size 800x400 with 1 Axes>"
      ]
     },
     "metadata": {},
     "output_type": "display_data"
    }
   ],
   "source": [
    "barchart_regional_counts = df['region'].value_counts().plot(kind='bar', color='green', figsize=(8, 4))\n",
    "\n",
    "plt.title('Geographic Sales Trends', fontsize=14)\n",
    "plt.xlabel('Region', fontsize=12)\n",
    "plt.ylabel('Count', fontsize=12) "
   ]
  },
  {
   "cell_type": "markdown",
   "id": "e26074fa-3b7d-451d-bfc0-39a656341c9b",
   "metadata": {},
   "source": [
    "### Observation: \n",
    "The bar chart shows that the South region has the highest number of purchases, followed by the West, Midwest, and Northeast. This suggests that Instacart sees the strongest demand in the South, likely due to a larger customer base or greater adoption of grocery delivery services. The West follows closely behind, indicating substantial customer engagement in that area. Sales in the Midwest and Northeast are lower, which could mean lower market penetration or adoption rates compared to other regions. These insights can help in refining marketing and operational strategies by strengthening efforts in lower-performing regions while optimizing promotions and services in high-performing areas such as the South."
   ]
  },
  {
   "cell_type": "code",
   "execution_count": 16,
   "id": "93c13aea-0a08-4939-85a9-909ea48a901b",
   "metadata": {},
   "outputs": [],
   "source": [
    "# Exporting the bar chart\n",
    "barchart_regional_counts.figure.savefig(os.path.join(path, '04 Analysis','Visualization', 'geographic_sales_trend.png'))"
   ]
  },
  {
   "cell_type": "code",
   "execution_count": 117,
   "id": "4d961550-d71d-4e95-b01e-f87231ab333e",
   "metadata": {},
   "outputs": [],
   "source": [
    "crosstab_4 = pd.crosstab(df['region'], df['spender_flag'], dropna = False)"
   ]
  },
  {
   "cell_type": "code",
   "execution_count": 119,
   "id": "bb9f5b82-0c96-4606-9d56-a4195009d9a8",
   "metadata": {},
   "outputs": [],
   "source": [
    "crosstab_4.to_clipboard()"
   ]
  },
  {
   "cell_type": "code",
   "execution_count": 123,
   "id": "57556302-c24d-4d37-b4c2-136bc384d680",
   "metadata": {},
   "outputs": [
    {
     "data": {
      "image/png": "[encoded data removed]",
      "text/plain": [
       "<Figure size 640x480 with 1 Axes>"
      ]
     },
     "metadata": {},
     "output_type": "display_data"
    }
   ],
   "source": [
    "crossbar2 = sns.countplot(data=df, x='region', hue='spender_flag')"
   ]
  },
  {
   "cell_type": "code",
   "execution_count": 125,
   "id": "b21f4683-9b39-4453-8962-f50fe5de728a",
   "metadata": {},
   "outputs": [],
   "source": [
    "crossbar2.figure.savefig(os.path.join(path, '04 Analysis','Visualization', 'bar_region_spender.png'))"
   ]
  },
  {
   "cell_type": "markdown",
   "id": "283495d6-67bf-47fa-b0cc-32b11043a422",
   "metadata": {},
   "source": [
    "### Exclusion flag for low-activity customers"
   ]
  },
  {
   "cell_type": "code",
   "execution_count": 18,
   "id": "cd295429-a10e-448c-b470-d03738403813",
   "metadata": {},
   "outputs": [],
   "source": [
    "# Creating 'activity_flag' \n",
    "df.loc[df['max_order'] < 5, 'activity_flag'] = 'Low_activity'\n",
    "df.loc[df['max_order'] >= 5, 'activity_flag'] = 'High_activity'"
   ]
  },
  {
   "cell_type": "code",
   "execution_count": 19,
   "id": "9e3c72e7-a081-4a53-b42c-709c99cf4cce",
   "metadata": {},
   "outputs": [
    {
     "data": {
      "text/plain": [
       "activity_flag\n",
       "High_activity    30964564\n",
       "Low_activity      1440295\n",
       "Name: count, dtype: int64"
      ]
     },
     "execution_count": 19,
     "metadata": {},
     "output_type": "execute_result"
    }
   ],
   "source": [
    "# Check the output\n",
    "df['activity_flag'].value_counts(dropna=False)"
   ]
  },
  {
   "cell_type": "code",
   "execution_count": 20,
   "id": "7f8c8bb3-354d-4295-9b60-629412f0a0a3",
   "metadata": {},
   "outputs": [],
   "source": [
    "# Exclude the low activity customers \n",
    "Updated_df = df[df['activity_flag'] != 'Low_activity']"
   ]
  },
  {
   "cell_type": "code",
   "execution_count": 21,
   "id": "4615a513-f107-4cfc-bbfb-3f29255864bd",
   "metadata": {},
   "outputs": [
    {
     "data": {
      "text/plain": [
       "activity_flag\n",
       "High_activity    30964564\n",
       "Name: count, dtype: int64"
      ]
     },
     "execution_count": 21,
     "metadata": {},
     "output_type": "execute_result"
    }
   ],
   "source": [
    "Updated_df['activity_flag'].value_counts(dropna=False)"
   ]
  },
  {
   "cell_type": "markdown",
   "id": "748b179a-31e8-4110-b5e0-5159c6d69c70",
   "metadata": {},
   "source": [
    "### Exporting the dataframe"
   ]
  },
  {
   "cell_type": "code",
   "execution_count": 23,
   "id": "7937856d-6a0e-49c7-8864-bab520a9c8a1",
   "metadata": {},
   "outputs": [],
   "source": [
    "Updated_df.to_pickle(os.path.join(path, '02 Data','Prepared Data', 'high_activity_customers.pkl'))"
   ]
  },
  {
   "cell_type": "code",
   "execution_count": 24,
   "id": "fadf0b4b-7976-47be-8c7f-0e99e2582526",
   "metadata": {},
   "outputs": [
    {
     "name": "stderr",
     "output_type": "stream",
     "text": [
      "C:\\Users\\nabar\\AppData\\Local\\Temp\\ipykernel_22088\\80736099.py:2: SettingWithCopyWarning: \n",
      "A value is trying to be set on a copy of a slice from a DataFrame.\n",
      "Try using .loc[row_indexer,col_indexer] = value instead\n",
      "\n",
      "See the caveats in the documentation: https://pandas.pydata.org/pandas-docs/stable/user_guide/indexing.html#returning-a-view-versus-a-copy\n",
      "  Updated_df.loc[Updated_df['Age'] <= 25, 'Age Group'] = 'Young'\n"
     ]
    }
   ],
   "source": [
    "# Create Age group variable\n",
    "Updated_df.loc[Updated_df['Age'] <= 25, 'Age Group'] = 'Young'\n",
    "Updated_df.loc[(Updated_df['Age'] > 25) & (Updated_df['Age'] <= 64), 'Age Group'] = 'Adults'\n",
    "Updated_df.loc[Updated_df['Age'] > 64, 'Age Group'] = 'Senior'"
   ]
  },
  {
   "cell_type": "code",
   "execution_count": 25,
   "id": "25ea4df5-55c1-476f-9d7b-f0a3fd82f9a2",
   "metadata": {},
   "outputs": [],
   "source": [
    "# Checking the output\n",
    "Count_Age_Group = Updated_df['Age Group'].value_counts(dropna = False)"
   ]
  },
  {
   "cell_type": "code",
   "execution_count": 26,
   "id": "c2867919-daaa-4b69-9c64-7993080b2e1c",
   "metadata": {},
   "outputs": [
    {
     "data": {
      "text/plain": [
       "Age Group\n",
       "Adults    18904502\n",
       "Senior     8195544\n",
       "Young      3864518\n",
       "Name: count, dtype: int64"
      ]
     },
     "execution_count": 26,
     "metadata": {},
     "output_type": "execute_result"
    }
   ],
   "source": [
    "Count_Age_Group "
   ]
  },
  {
   "cell_type": "code",
   "execution_count": 27,
   "id": "4bb68a1d-d90f-43c2-8dc9-8f11574ba413",
   "metadata": {},
   "outputs": [
    {
     "data": {
      "image/png": "[encoded data removed]",
      "text/plain": [
       "<Figure size 640x480 with 1 Axes>"
      ]
     },
     "metadata": {},
     "output_type": "display_data"
    }
   ],
   "source": [
    "# Creating a pie chart\n",
    "Age_Group_PieChart = Count_Age_Group.plot.pie(autopct='%1.1f%%', labels= ['Young: <=25 years', 'Adult: 26-64 years', 'Senior: 65+ years'], startangle=90)\n",
    "plt.title('Age-Based Consumer Distribution')\n",
    "plt.axis('equal') \n",
    "plt.show()"
   ]
  },
  {
   "cell_type": "code",
   "execution_count": 28,
   "id": "c0af7f52-4219-43b0-bc61-108bd6ab1a71",
   "metadata": {},
   "outputs": [],
   "source": [
    "# Exporting the Pie chart\n",
    "Age_Group_PieChart.figure.savefig(os.path.join(path, '04 Analysis','Visualization', 'AgeGroup_PieChart.png'))"
   ]
  },
  {
   "cell_type": "markdown",
   "id": "e28d424e-481a-4ea8-941e-7016d1f6e9c4",
   "metadata": {},
   "source": [
    "### Observation:\n",
    "The pie chart illustrates the distribution of age groups among customers, showing that young individuals aged 25 or younger make up the largest segment at 61.1%. Adults between the ages of 26 and 64 represent 26.5% of the customer base, while seniors aged 65 and older account for 12.5%. The data suggests that Instacart has a strong presence among younger customers, potentially indicating that digital grocery shopping is more widely adopted by younger demographics. Adult consumers still represent a significant portion, while seniors make up the smallest share, possibly due to less familiarity with online shopping platforms. These insights can guide targeted marketing strategies to address the needs and preferences of each age group"
   ]
  },
  {
   "cell_type": "code",
   "execution_count": 30,
   "id": "5341552e-eafb-4e6e-9335-ac62c1b36208",
   "metadata": {},
   "outputs": [
    {
     "data": {
      "text/plain": [
       "count    3.096456e+07\n",
       "mean     9.967587e+04\n",
       "std      4.314187e+04\n",
       "min      2.590300e+04\n",
       "25%      6.729200e+04\n",
       "50%      9.676500e+04\n",
       "75%      1.281020e+05\n",
       "max      5.939010e+05\n",
       "Name: income, dtype: float64"
      ]
     },
     "execution_count": 30,
     "metadata": {},
     "output_type": "execute_result"
    }
   ],
   "source": [
    "Updated_df['income'].describe()"
   ]
  },
  {
   "cell_type": "code",
   "execution_count": 31,
   "id": "a04f93ac-7609-475e-bf3b-01f432d4f6e8",
   "metadata": {},
   "outputs": [
    {
     "name": "stderr",
     "output_type": "stream",
     "text": [
      "C:\\Users\\nabar\\AppData\\Local\\Temp\\ipykernel_22088\\1331549315.py:2: SettingWithCopyWarning: \n",
      "A value is trying to be set on a copy of a slice from a DataFrame.\n",
      "Try using .loc[row_indexer,col_indexer] = value instead\n",
      "\n",
      "See the caveats in the documentation: https://pandas.pydata.org/pandas-docs/stable/user_guide/indexing.html#returning-a-view-versus-a-copy\n",
      "  Updated_df.loc[Updated_df['income'] <= 90000, 'Income Group'] = 'Low'\n"
     ]
    }
   ],
   "source": [
    "# Create an Income Group Variable\n",
    "Updated_df.loc[Updated_df['income'] <= 90000, 'Income Group'] = 'Low'\n",
    "Updated_df.loc[(Updated_df['income'] > 90000) & (Updated_df['income'] <= 130000), 'Income Group'] = 'Middle'\n",
    "Updated_df.loc[Updated_df['income'] > 130000, 'Income Group'] = 'High'"
   ]
  },
  {
   "cell_type": "code",
   "execution_count": 32,
   "id": "5642c3ca-3c0b-4ff2-9407-fea6de024ee4",
   "metadata": {},
   "outputs": [],
   "source": [
    "Count_IncomeGroup = Updated_df['Income Group'].value_counts(dropna = False)"
   ]
  },
  {
   "cell_type": "code",
   "execution_count": 33,
   "id": "31272389-30d8-4430-9669-1c21d6c99d90",
   "metadata": {},
   "outputs": [
    {
     "data": {
      "text/plain": [
       "Income Group\n",
       "Low       13134732\n",
       "Middle    10428418\n",
       "High       7401414\n",
       "Name: count, dtype: int64"
      ]
     },
     "execution_count": 33,
     "metadata": {},
     "output_type": "execute_result"
    }
   ],
   "source": [
    "Count_IncomeGroup"
   ]
  },
  {
   "cell_type": "code",
   "execution_count": 34,
   "id": "f8b863f5-2c29-4d25-bf8a-59cf34b9e411",
   "metadata": {},
   "outputs": [
    {
     "data": {
      "text/plain": [
       "Text(0, 0.5, 'count')"
      ]
     },
     "execution_count": 34,
     "metadata": {},
     "output_type": "execute_result"
    },
    {
     "data": {
      "image/png": "[encoded data removed]",
      "text/plain": [
       "<Figure size 640x480 with 1 Axes>"
      ]
     },
     "metadata": {},
     "output_type": "display_data"
    }
   ],
   "source": [
    "#Bar chart\n",
    "IncomeGroup_BarChart = Count_IncomeGroup.plot.bar()\n",
    "plt.title('Financial Distribution by Age')\n",
    "plt.xlabel('Income Group')\n",
    "plt.ylabel('count')"
   ]
  },
  {
   "cell_type": "markdown",
   "id": "51ef13b0-2532-427f-b0ef-a43ea9d868c0",
   "metadata": {},
   "source": [
    "### Obsevation:\n",
    "The bar chart illustrates the distribution of customers across different income groups based on the defined categories. The Low income group has the highest count, followed by the Middle income group, while the High income group represents the smallest segment. This suggests that a significant portion of customers fall within lower income brackets, indicating that affordability may be a key factor in purchasing behavior. The middle-income segment is also substantial, showing a balanced presence in spending capacity. The high-income group, though the smallest, represents potential opportunities for premium product targeting and specialized marketing strategies."
   ]
  },
  {
   "cell_type": "code",
   "execution_count": 36,
   "id": "894c874d-9f4c-4ecb-adee-9a6b8246dcbb",
   "metadata": {},
   "outputs": [],
   "source": [
    "# Exporting the bar chart\n",
    "IncomeGroup_BarChart.figure.savefig(os.path.join(path, '04 Analysis','Visualization', 'IncomeGroup_BarChart.png'))"
   ]
  },
  {
   "cell_type": "code",
   "execution_count": 37,
   "id": "cdd741a0-478c-4986-98cf-3774e4ae513b",
   "metadata": {},
   "outputs": [
    {
     "name": "stderr",
     "output_type": "stream",
     "text": [
      "C:\\Users\\nabar\\AppData\\Local\\Temp\\ipykernel_22088\\4294105939.py:2: SettingWithCopyWarning: \n",
      "A value is trying to be set on a copy of a slice from a DataFrame.\n",
      "Try using .loc[row_indexer,col_indexer] = value instead\n",
      "\n",
      "See the caveats in the documentation: https://pandas.pydata.org/pandas-docs/stable/user_guide/indexing.html#returning-a-view-versus-a-copy\n",
      "  Updated_df.loc[Updated_df['Number_of_Dependents'] <1, 'dependents_flag'] = 'Single'\n"
     ]
    }
   ],
   "source": [
    "# Creating a dependent flag variable\n",
    "Updated_df.loc[Updated_df['Number_of_Dependents'] <1, 'dependents_flag'] = 'Single'\n",
    "Updated_df.loc[Updated_df['Number_of_Dependents'] >= 1, 'dependents_flag'] = 'Parent'"
   ]
  },
  {
   "cell_type": "code",
   "execution_count": 38,
   "id": "89bc6889-d016-4370-ae6e-4fcfa4b21a85",
   "metadata": {},
   "outputs": [
    {
     "data": {
      "text/plain": [
       "dependents_flag\n",
       "Parent    23224883\n",
       "Single     7739681\n",
       "Name: count, dtype: int64"
      ]
     },
     "execution_count": 38,
     "metadata": {},
     "output_type": "execute_result"
    }
   ],
   "source": [
    "Count_DependentGroup = Updated_df['dependents_flag'].value_counts(dropna = False)\n",
    "Count_DependentGroup"
   ]
  },
  {
   "cell_type": "code",
   "execution_count": 39,
   "id": "569db052-4b8d-4c55-a5c2-a2a805cc7f2b",
   "metadata": {},
   "outputs": [
    {
     "data": {
      "image/png": "[encoded data removed]",
      "text/plain": [
       "<Figure size 640x480 with 1 Axes>"
      ]
     },
     "metadata": {},
     "output_type": "display_data"
    }
   ],
   "source": [
    "# Pie Chart\n",
    "DependentGroup_PieChart = Count_DependentGroup.plot.pie(autopct='%1.1f%%', labels= ['Single', 'Parent'], startangle=90)\n",
    "plt.title('Dependent Count Overview')\n",
    "plt.axis('equal') \n",
    "plt.show()"
   ]
  },
  {
   "cell_type": "markdown",
   "id": "866afef5-a645-4758-88a8-db1aaf10f5cf",
   "metadata": {},
   "source": [
    "### Observation:\n",
    "The pie chart visually represents the distribution of customers based on their dependent status. The majority, 75%, fall under the \"Single\" category, meaning they have no dependents, while 25% are classified as \"Parent,\" indicating they have at least one dependent. This suggests that a significant portion of Instacart's customer base consists of individuals without dependents, which could influence purchasing behavior, product preferences, and marketing strategies. The presence of a sizable parent segment also highlights opportunities for targeted promotions on family-oriented products and services. Understanding this distribution can help refine customer engagement strategies and optimize offerings for different household structures."
   ]
  },
  {
   "cell_type": "code",
   "execution_count": 41,
   "id": "c0eb9ed5-055d-4ce1-bd4f-aec72d2a1d2e",
   "metadata": {},
   "outputs": [],
   "source": [
    "# Exporting the pie chart\n",
    "DependentGroup_PieChart.figure.savefig(os.path.join(path, '04 Analysis','Visualization', 'DependentGroup_PieChart.png'))"
   ]
  },
  {
   "cell_type": "code",
   "execution_count": 42,
   "id": "39892c30-5092-413d-8e92-4fc57dcdc2e0",
   "metadata": {},
   "outputs": [
    {
     "data": {
      "text/html": [
       "<div>\n",
       "<style scoped>\n",
       "    .dataframe tbody tr th:only-of-type {\n",
       "        vertical-align: middle;\n",
       "    }\n",
       "\n",
       "    .dataframe tbody tr th {\n",
       "        vertical-align: top;\n",
       "    }\n",
       "\n",
       "    .dataframe thead th {\n",
       "        text-align: right;\n",
       "    }\n",
       "</style>\n",
       "<table border=\"1\" class=\"dataframe\">\n",
       "  <thead>\n",
       "    <tr style=\"text-align: right;\">\n",
       "      <th>Age Group</th>\n",
       "      <th>Adults</th>\n",
       "      <th>Senior</th>\n",
       "      <th>Young</th>\n",
       "    </tr>\n",
       "    <tr>\n",
       "      <th>loyalty_flag</th>\n",
       "      <th></th>\n",
       "      <th></th>\n",
       "      <th></th>\n",
       "    </tr>\n",
       "  </thead>\n",
       "  <tbody>\n",
       "    <tr>\n",
       "      <th>Loyal customer</th>\n",
       "      <td>6279684</td>\n",
       "      <td>2723958</td>\n",
       "      <td>1280451</td>\n",
       "    </tr>\n",
       "    <tr>\n",
       "      <th>New customer</th>\n",
       "      <td>2927178</td>\n",
       "      <td>1276659</td>\n",
       "      <td>599858</td>\n",
       "    </tr>\n",
       "    <tr>\n",
       "      <th>Regular customer</th>\n",
       "      <td>9697640</td>\n",
       "      <td>4194927</td>\n",
       "      <td>1984209</td>\n",
       "    </tr>\n",
       "  </tbody>\n",
       "</table>\n",
       "</div>"
      ],
      "text/plain": [
       "Age Group          Adults   Senior    Young\n",
       "loyalty_flag                               \n",
       "Loyal customer    6279684  2723958  1280451\n",
       "New customer      2927178  1276659   599858\n",
       "Regular customer  9697640  4194927  1984209"
      ]
     },
     "execution_count": 42,
     "metadata": {},
     "output_type": "execute_result"
    }
   ],
   "source": [
    "# Crosstab\n",
    "Crosstab_LoyaltyAgeGroup = pd.crosstab(Updated_df['loyalty_flag'], Updated_df['Age Group'], dropna = False)\n",
    "Crosstab_LoyaltyAgeGroup"
   ]
  },
  {
   "cell_type": "code",
   "execution_count": 43,
   "id": "f58ddc0a-d4d7-416d-a211-c273895c0f44",
   "metadata": {},
   "outputs": [
    {
     "data": {
      "text/plain": [
       "Text(0.5, 0, '')"
      ]
     },
     "execution_count": 43,
     "metadata": {},
     "output_type": "execute_result"
    },
    {
     "data": {
      "image/png": "[encoded data removed]",
      "text/plain": [
       "<Figure size 640x480 with 1 Axes>"
      ]
     },
     "metadata": {},
     "output_type": "display_data"
    }
   ],
   "source": [
    "# Barchart\n",
    "LoyaltyAgeGroup_BarChart = Crosstab_LoyaltyAgeGroup.plot.bar()\n",
    "plt.title('Loyalty by Age Group')\n",
    "plt.ylabel('Count')\n",
    "plt.xlabel('')"
   ]
  },
  {
   "cell_type": "markdown",
   "id": "f0ad0e66-70e6-43b9-9f5a-04ed3492148f",
   "metadata": {},
   "source": [
    "### Observation:\n",
    "The bar chart titled \"Loyalty by Age Group\" illustrates the distribution of customer loyalty across different age groups. Adults consistently have the highest count in all three loyalty categories—loyal customers, new customers, and regular customers—suggesting that they form the largest segment of Instacart's user base. Seniors follow as the second-largest group, while young customers represent the smallest portion across all loyalty categories. This trend indicates that middle-aged and older individuals are more engaged with Instacart, possibly due to their shopping habits and reliance on grocery delivery services. The lower engagement among younger customers may present an opportunity for targeted marketing strategies to increase adoption within that demographic."
   ]
  },
  {
   "cell_type": "code",
   "execution_count": 45,
   "id": "911b842d-9e2c-4dfa-bf60-1ceaa68d6172",
   "metadata": {},
   "outputs": [],
   "source": [
    "# Exporting the Bar Chart\n",
    "LoyaltyAgeGroup_BarChart.figure.savefig(os.path.join(path, '04 Analysis','Visualization', 'LoyaltyAgeGroup_BarChart.png'))"
   ]
  },
  {
   "cell_type": "markdown",
   "id": "3ff08b51-0a61-42b3-be4b-7df5a14da5e6",
   "metadata": {},
   "source": [
    "### Q7)Use Aggregation Functions on customer profile level "
   ]
  },
  {
   "cell_type": "code",
   "execution_count": 47,
   "id": "4d7d4507-39fb-4621-9f3b-a430d51ee0c9",
   "metadata": {},
   "outputs": [
    {
     "data": {
      "text/html": [
       "<div>\n",
       "<style scoped>\n",
       "    .dataframe tbody tr th:only-of-type {\n",
       "        vertical-align: middle;\n",
       "    }\n",
       "\n",
       "    .dataframe tbody tr th {\n",
       "        vertical-align: top;\n",
       "    }\n",
       "\n",
       "    .dataframe thead tr th {\n",
       "        text-align: left;\n",
       "    }\n",
       "\n",
       "    .dataframe thead tr:last-of-type th {\n",
       "        text-align: right;\n",
       "    }\n",
       "</style>\n",
       "<table border=\"1\" class=\"dataframe\">\n",
       "  <thead>\n",
       "    <tr>\n",
       "      <th></th>\n",
       "      <th colspan=\"3\" halign=\"left\">prices</th>\n",
       "    </tr>\n",
       "    <tr>\n",
       "      <th></th>\n",
       "      <th>max</th>\n",
       "      <th>min</th>\n",
       "      <th>mean</th>\n",
       "    </tr>\n",
       "    <tr>\n",
       "      <th>user_id</th>\n",
       "      <th></th>\n",
       "      <th></th>\n",
       "      <th></th>\n",
       "    </tr>\n",
       "  </thead>\n",
       "  <tbody>\n",
       "    <tr>\n",
       "      <th>1</th>\n",
       "      <td>14.0</td>\n",
       "      <td>1.0</td>\n",
       "      <td>6.367797</td>\n",
       "    </tr>\n",
       "    <tr>\n",
       "      <th>2</th>\n",
       "      <td>14.8</td>\n",
       "      <td>1.3</td>\n",
       "      <td>7.515897</td>\n",
       "    </tr>\n",
       "    <tr>\n",
       "      <th>3</th>\n",
       "      <td>14.4</td>\n",
       "      <td>1.3</td>\n",
       "      <td>8.197727</td>\n",
       "    </tr>\n",
       "    <tr>\n",
       "      <th>4</th>\n",
       "      <td>14.6</td>\n",
       "      <td>1.4</td>\n",
       "      <td>8.205556</td>\n",
       "    </tr>\n",
       "    <tr>\n",
       "      <th>7</th>\n",
       "      <td>23.2</td>\n",
       "      <td>1.1</td>\n",
       "      <td>7.466990</td>\n",
       "    </tr>\n",
       "    <tr>\n",
       "      <th>...</th>\n",
       "      <td>...</td>\n",
       "      <td>...</td>\n",
       "      <td>...</td>\n",
       "    </tr>\n",
       "    <tr>\n",
       "      <th>206203</th>\n",
       "      <td>25.0</td>\n",
       "      <td>1.0</td>\n",
       "      <td>7.138655</td>\n",
       "    </tr>\n",
       "    <tr>\n",
       "      <th>206206</th>\n",
       "      <td>14.8</td>\n",
       "      <td>1.1</td>\n",
       "      <td>7.646667</td>\n",
       "    </tr>\n",
       "    <tr>\n",
       "      <th>206207</th>\n",
       "      <td>24.7</td>\n",
       "      <td>1.2</td>\n",
       "      <td>7.313453</td>\n",
       "    </tr>\n",
       "    <tr>\n",
       "      <th>206208</th>\n",
       "      <td>21.6</td>\n",
       "      <td>1.1</td>\n",
       "      <td>8.366617</td>\n",
       "    </tr>\n",
       "    <tr>\n",
       "      <th>206209</th>\n",
       "      <td>18.8</td>\n",
       "      <td>1.1</td>\n",
       "      <td>7.058915</td>\n",
       "    </tr>\n",
       "  </tbody>\n",
       "</table>\n",
       "<p>162631 rows × 3 columns</p>\n",
       "</div>"
      ],
      "text/plain": [
       "        prices               \n",
       "           max  min      mean\n",
       "user_id                      \n",
       "1         14.0  1.0  6.367797\n",
       "2         14.8  1.3  7.515897\n",
       "3         14.4  1.3  8.197727\n",
       "4         14.6  1.4  8.205556\n",
       "7         23.2  1.1  7.466990\n",
       "...        ...  ...       ...\n",
       "206203    25.0  1.0  7.138655\n",
       "206206    14.8  1.1  7.646667\n",
       "206207    24.7  1.2  7.313453\n",
       "206208    21.6  1.1  8.366617\n",
       "206209    18.8  1.1  7.058915\n",
       "\n",
       "[162631 rows x 3 columns]"
      ]
     },
     "execution_count": 47,
     "metadata": {},
     "output_type": "execute_result"
    }
   ],
   "source": [
    "# Aggregation function \n",
    "Updated_df.groupby('user_id').agg({'prices': ['max', 'min', 'mean']})\n"
   ]
  },
  {
   "cell_type": "code",
   "execution_count": 48,
   "id": "426c3123-c63d-4054-9523-3e05cd4c6a1e",
   "metadata": {},
   "outputs": [
    {
     "data": {
      "text/html": [
       "<div>\n",
       "<style scoped>\n",
       "    .dataframe tbody tr th:only-of-type {\n",
       "        vertical-align: middle;\n",
       "    }\n",
       "\n",
       "    .dataframe tbody tr th {\n",
       "        vertical-align: top;\n",
       "    }\n",
       "\n",
       "    .dataframe thead tr th {\n",
       "        text-align: left;\n",
       "    }\n",
       "\n",
       "    .dataframe thead tr:last-of-type th {\n",
       "        text-align: right;\n",
       "    }\n",
       "</style>\n",
       "<table border=\"1\" class=\"dataframe\">\n",
       "  <thead>\n",
       "    <tr>\n",
       "      <th></th>\n",
       "      <th colspan=\"3\" halign=\"left\">order_number</th>\n",
       "    </tr>\n",
       "    <tr>\n",
       "      <th></th>\n",
       "      <th>max</th>\n",
       "      <th>min</th>\n",
       "      <th>mean</th>\n",
       "    </tr>\n",
       "    <tr>\n",
       "      <th>user_id</th>\n",
       "      <th></th>\n",
       "      <th></th>\n",
       "      <th></th>\n",
       "    </tr>\n",
       "  </thead>\n",
       "  <tbody>\n",
       "    <tr>\n",
       "      <th>1</th>\n",
       "      <td>10</td>\n",
       "      <td>1</td>\n",
       "      <td>5.813559</td>\n",
       "    </tr>\n",
       "    <tr>\n",
       "      <th>2</th>\n",
       "      <td>14</td>\n",
       "      <td>1</td>\n",
       "      <td>8.035897</td>\n",
       "    </tr>\n",
       "    <tr>\n",
       "      <th>3</th>\n",
       "      <td>12</td>\n",
       "      <td>1</td>\n",
       "      <td>6.000000</td>\n",
       "    </tr>\n",
       "    <tr>\n",
       "      <th>4</th>\n",
       "      <td>5</td>\n",
       "      <td>1</td>\n",
       "      <td>2.888889</td>\n",
       "    </tr>\n",
       "    <tr>\n",
       "      <th>7</th>\n",
       "      <td>20</td>\n",
       "      <td>1</td>\n",
       "      <td>9.645631</td>\n",
       "    </tr>\n",
       "    <tr>\n",
       "      <th>...</th>\n",
       "      <td>...</td>\n",
       "      <td>...</td>\n",
       "      <td>...</td>\n",
       "    </tr>\n",
       "    <tr>\n",
       "      <th>206203</th>\n",
       "      <td>5</td>\n",
       "      <td>1</td>\n",
       "      <td>2.983193</td>\n",
       "    </tr>\n",
       "    <tr>\n",
       "      <th>206206</th>\n",
       "      <td>67</td>\n",
       "      <td>1</td>\n",
       "      <td>38.007018</td>\n",
       "    </tr>\n",
       "    <tr>\n",
       "      <th>206207</th>\n",
       "      <td>16</td>\n",
       "      <td>1</td>\n",
       "      <td>8.116592</td>\n",
       "    </tr>\n",
       "    <tr>\n",
       "      <th>206208</th>\n",
       "      <td>49</td>\n",
       "      <td>1</td>\n",
       "      <td>25.505170</td>\n",
       "    </tr>\n",
       "    <tr>\n",
       "      <th>206209</th>\n",
       "      <td>13</td>\n",
       "      <td>1</td>\n",
       "      <td>6.937984</td>\n",
       "    </tr>\n",
       "  </tbody>\n",
       "</table>\n",
       "<p>162631 rows × 3 columns</p>\n",
       "</div>"
      ],
      "text/plain": [
       "        order_number               \n",
       "                 max min       mean\n",
       "user_id                            \n",
       "1                 10   1   5.813559\n",
       "2                 14   1   8.035897\n",
       "3                 12   1   6.000000\n",
       "4                  5   1   2.888889\n",
       "7                 20   1   9.645631\n",
       "...              ...  ..        ...\n",
       "206203             5   1   2.983193\n",
       "206206            67   1  38.007018\n",
       "206207            16   1   8.116592\n",
       "206208            49   1  25.505170\n",
       "206209            13   1   6.937984\n",
       "\n",
       "[162631 rows x 3 columns]"
      ]
     },
     "execution_count": 48,
     "metadata": {},
     "output_type": "execute_result"
    }
   ],
   "source": [
    "# Aggregation function \n",
    "Updated_df.groupby('user_id').agg({'order_number': ['max', 'min', 'mean']})"
   ]
  },
  {
   "cell_type": "markdown",
   "id": "7c6f542a-8000-4eaf-b583-18cbdbaca73c",
   "metadata": {},
   "source": [
    "### Q8)Compare the customer profiles with regions and departments"
   ]
  },
  {
   "cell_type": "code",
   "execution_count": 50,
   "id": "5eac508a-a0e2-4dbb-9da3-8cc4e45b9c0b",
   "metadata": {},
   "outputs": [],
   "source": [
    "# Using crosstab functiion on Region and Department\n",
    "Crosstab_Reg_Dep = pd.crosstab(Updated_df['region'], Updated_df['department_id'], dropna = False)"
   ]
  },
  {
   "cell_type": "code",
   "execution_count": 51,
   "id": "a76c8732-9192-4118-a928-acb999776070",
   "metadata": {},
   "outputs": [
    {
     "data": {
      "text/html": [
       "<div>\n",
       "<style scoped>\n",
       "    .dataframe tbody tr th:only-of-type {\n",
       "        vertical-align: middle;\n",
       "    }\n",
       "\n",
       "    .dataframe tbody tr th {\n",
       "        vertical-align: top;\n",
       "    }\n",
       "\n",
       "    .dataframe thead th {\n",
       "        text-align: right;\n",
       "    }\n",
       "</style>\n",
       "<table border=\"1\" class=\"dataframe\">\n",
       "  <thead>\n",
       "    <tr style=\"text-align: right;\">\n",
       "      <th>department_id</th>\n",
       "      <th>1</th>\n",
       "      <th>2</th>\n",
       "      <th>3</th>\n",
       "      <th>4</th>\n",
       "      <th>5</th>\n",
       "      <th>6</th>\n",
       "      <th>7</th>\n",
       "      <th>8</th>\n",
       "      <th>9</th>\n",
       "      <th>10</th>\n",
       "      <th>...</th>\n",
       "      <th>12</th>\n",
       "      <th>13</th>\n",
       "      <th>14</th>\n",
       "      <th>15</th>\n",
       "      <th>16</th>\n",
       "      <th>17</th>\n",
       "      <th>18</th>\n",
       "      <th>19</th>\n",
       "      <th>20</th>\n",
       "      <th>21</th>\n",
       "    </tr>\n",
       "    <tr>\n",
       "      <th>region</th>\n",
       "      <th></th>\n",
       "      <th></th>\n",
       "      <th></th>\n",
       "      <th></th>\n",
       "      <th></th>\n",
       "      <th></th>\n",
       "      <th></th>\n",
       "      <th></th>\n",
       "      <th></th>\n",
       "      <th></th>\n",
       "      <th></th>\n",
       "      <th></th>\n",
       "      <th></th>\n",
       "      <th></th>\n",
       "      <th></th>\n",
       "      <th></th>\n",
       "      <th></th>\n",
       "      <th></th>\n",
       "      <th></th>\n",
       "      <th></th>\n",
       "      <th></th>\n",
       "    </tr>\n",
       "  </thead>\n",
       "  <tbody>\n",
       "    <tr>\n",
       "      <th>Midwest</th>\n",
       "      <td>498225</td>\n",
       "      <td>7983</td>\n",
       "      <td>261753</td>\n",
       "      <td>2134115</td>\n",
       "      <td>34043</td>\n",
       "      <td>60666</td>\n",
       "      <td>598979</td>\n",
       "      <td>21358</td>\n",
       "      <td>193463</td>\n",
       "      <td>7929</td>\n",
       "      <td>...</td>\n",
       "      <td>158260</td>\n",
       "      <td>420334</td>\n",
       "      <td>156155</td>\n",
       "      <td>237459</td>\n",
       "      <td>1212490</td>\n",
       "      <td>166992</td>\n",
       "      <td>95741</td>\n",
       "      <td>645143</td>\n",
       "      <td>234464</td>\n",
       "      <td>15563</td>\n",
       "    </tr>\n",
       "    <tr>\n",
       "      <th>Northeast</th>\n",
       "      <td>370436</td>\n",
       "      <td>6268</td>\n",
       "      <td>199300</td>\n",
       "      <td>1593004</td>\n",
       "      <td>25017</td>\n",
       "      <td>44678</td>\n",
       "      <td>462929</td>\n",
       "      <td>17734</td>\n",
       "      <td>143817</td>\n",
       "      <td>5599</td>\n",
       "      <td>...</td>\n",
       "      <td>118571</td>\n",
       "      <td>312731</td>\n",
       "      <td>117904</td>\n",
       "      <td>176936</td>\n",
       "      <td>914616</td>\n",
       "      <td>124604</td>\n",
       "      <td>72712</td>\n",
       "      <td>493154</td>\n",
       "      <td>178398</td>\n",
       "      <td>11512</td>\n",
       "    </tr>\n",
       "    <tr>\n",
       "      <th>South</th>\n",
       "      <td>709906</td>\n",
       "      <td>11579</td>\n",
       "      <td>371620</td>\n",
       "      <td>3027476</td>\n",
       "      <td>48813</td>\n",
       "      <td>84649</td>\n",
       "      <td>859419</td>\n",
       "      <td>29909</td>\n",
       "      <td>272813</td>\n",
       "      <td>11180</td>\n",
       "      <td>...</td>\n",
       "      <td>224120</td>\n",
       "      <td>591754</td>\n",
       "      <td>223172</td>\n",
       "      <td>337458</td>\n",
       "      <td>1723016</td>\n",
       "      <td>230061</td>\n",
       "      <td>139511</td>\n",
       "      <td>916780</td>\n",
       "      <td>333620</td>\n",
       "      <td>21787</td>\n",
       "    </tr>\n",
       "    <tr>\n",
       "      <th>West</th>\n",
       "      <td>543164</td>\n",
       "      <td>8581</td>\n",
       "      <td>288155</td>\n",
       "      <td>2324678</td>\n",
       "      <td>36754</td>\n",
       "      <td>65998</td>\n",
       "      <td>650574</td>\n",
       "      <td>24059</td>\n",
       "      <td>212043</td>\n",
       "      <td>8743</td>\n",
       "      <td>...</td>\n",
       "      <td>173830</td>\n",
       "      <td>457886</td>\n",
       "      <td>173619</td>\n",
       "      <td>260221</td>\n",
       "      <td>1327060</td>\n",
       "      <td>178200</td>\n",
       "      <td>102428</td>\n",
       "      <td>711329</td>\n",
       "      <td>257352</td>\n",
       "      <td>15906</td>\n",
       "    </tr>\n",
       "  </tbody>\n",
       "</table>\n",
       "<p>4 rows × 21 columns</p>\n",
       "</div>"
      ],
      "text/plain": [
       "department_id      1      2       3        4      5      6       7      8   \\\n",
       "region                                                                       \n",
       "Midwest        498225   7983  261753  2134115  34043  60666  598979  21358   \n",
       "Northeast      370436   6268  199300  1593004  25017  44678  462929  17734   \n",
       "South          709906  11579  371620  3027476  48813  84649  859419  29909   \n",
       "West           543164   8581  288155  2324678  36754  65998  650574  24059   \n",
       "\n",
       "department_id      9      10  ...      12      13      14      15       16  \\\n",
       "region                        ...                                            \n",
       "Midwest        193463   7929  ...  158260  420334  156155  237459  1212490   \n",
       "Northeast      143817   5599  ...  118571  312731  117904  176936   914616   \n",
       "South          272813  11180  ...  224120  591754  223172  337458  1723016   \n",
       "West           212043   8743  ...  173830  457886  173619  260221  1327060   \n",
       "\n",
       "department_id      17      18      19      20     21  \n",
       "region                                                \n",
       "Midwest        166992   95741  645143  234464  15563  \n",
       "Northeast      124604   72712  493154  178398  11512  \n",
       "South          230061  139511  916780  333620  21787  \n",
       "West           178200  102428  711329  257352  15906  \n",
       "\n",
       "[4 rows x 21 columns]"
      ]
     },
     "execution_count": 51,
     "metadata": {},
     "output_type": "execute_result"
    }
   ],
   "source": [
    "Crosstab_Reg_Dep"
   ]
  },
  {
   "cell_type": "code",
   "execution_count": 52,
   "id": "cd4f9782-1d46-4b92-974f-df899ab82b2f",
   "metadata": {},
   "outputs": [
    {
     "data": {
      "text/plain": [
       "Text(0, 0.5, 'Region')"
      ]
     },
     "execution_count": 52,
     "metadata": {},
     "output_type": "execute_result"
    },
    {
     "data": {
      "image/png": "[encoded data removed]",
      "text/plain": [
       "<Figure size 800x600 with 1 Axes>"
      ]
     },
     "metadata": {},
     "output_type": "display_data"
    }
   ],
   "source": [
    "# Bar chart \n",
    "BarChart_RegionDepartment = Crosstab_Reg_Dep.plot(kind = 'barh',figsize=(8,6))\n",
    "plt.title('Department Sales by Region')\n",
    "plt.xlabel('Product Count')\n",
    "plt.ylabel('Region')"
   ]
  },
  {
   "cell_type": "markdown",
   "id": "76019c46-ff10-4485-9255-d5cfb0f7af82",
   "metadata": {},
   "source": [
    "### Observation:\n",
    "The bar chart titled \"Department Sales by Region\" illustrates the distribution of product sales across different regions. The data suggests that certain regions have higher product counts in specific departments, highlighting variations in consumer demand based on location. Some regions show significantly higher engagement in certain categories, while others have lower sales volume. These patterns can help businesses tailor marketing strategies and inventory management to align with regional preferences, ensuring that supply meets demand effectively. Identifying these trends allows for a more targeted approach in optimizing product availability across different geographic areas.\n",
    "\n"
   ]
  },
  {
   "cell_type": "code",
   "execution_count": 54,
   "id": "c5f648b6-e22e-49a5-badb-9194c54839b8",
   "metadata": {},
   "outputs": [],
   "source": [
    "# Exporting the bar chart\n",
    "BarChart_RegionDepartment.figure.savefig(os.path.join(path, '04 Analysis','Visualization', 'BarChart_RegionDepartment.png'))"
   ]
  },
  {
   "cell_type": "markdown",
   "id": "cf436e9f-5a9a-4795-8537-ec614a4391e0",
   "metadata": {},
   "source": [
    "### Q9)"
   ]
  },
  {
   "cell_type": "code",
   "execution_count": 56,
   "id": "50c6e174-6b61-4384-995b-f4c8303e7fe5",
   "metadata": {},
   "outputs": [
    {
     "data": {
      "text/plain": [
       "Text(0.5, 0, 'Hour of The Day')"
      ]
     },
     "execution_count": 56,
     "metadata": {},
     "output_type": "execute_result"
    },
    {
     "data": {
      "image/png": "[encoded data removed]",
      "text/plain": [
       "<Figure size 640x480 with 1 Axes>"
      ]
     },
     "metadata": {},
     "output_type": "display_data"
    }
   ],
   "source": [
    "# Histogram\n",
    "Time_Day_Histogram = Updated_df['order_hour_of_day'].plot.hist(bins = 24, color = 'orange')\n",
    "plt.title('Order Placement Time')\n",
    "plt.xlabel('Hour of The Day')"
   ]
  },
  {
   "cell_type": "markdown",
   "id": "bd81c53e-a9c2-43a8-84bf-96133619815d",
   "metadata": {},
   "source": [
    "### Observation:\n",
    "The histogram visualizes the distribution of order placement times throughout the day. The data shows that orders are most frequently placed between 8 AM and 6 PM, with a clear peak around noon. This trend suggests that customers tend to shop during late morning and early afternoon, possibly aligning with meal planning or midday convenience. Early morning and late-night orders are significantly lower, indicating that grocery shopping primarily occurs within standard waking hours. This insight can help optimize inventory, staffing, and promotional strategies during peak order times"
   ]
  },
  {
   "cell_type": "code",
   "execution_count": 58,
   "id": "a98719a8-cc8b-46c5-b320-396a32debf19",
   "metadata": {},
   "outputs": [],
   "source": [
    "# Exporting the Histogram\n",
    "Time_Day_Histogram.figure.savefig(os.path.join(path, '04 Analysis','Visualization', 'Time_Day_Histogram.png'))"
   ]
  },
  {
   "cell_type": "code",
   "execution_count": 59,
   "id": "458bc908-cd76-4757-8d98-b5f9982b88fe",
   "metadata": {},
   "outputs": [],
   "source": [
    "crosstab_loyaltyflag_gender = pd.crosstab(Updated_df['loyalty_flag'],Updated_df['Gender'], dropna = False)"
   ]
  },
  {
   "cell_type": "code",
   "execution_count": 60,
   "id": "4b78e6a9-fd2e-4f4a-b846-cf0fee18be0f",
   "metadata": {},
   "outputs": [
    {
     "data": {
      "text/html": [
       "<div>\n",
       "<style scoped>\n",
       "    .dataframe tbody tr th:only-of-type {\n",
       "        vertical-align: middle;\n",
       "    }\n",
       "\n",
       "    .dataframe tbody tr th {\n",
       "        vertical-align: top;\n",
       "    }\n",
       "\n",
       "    .dataframe thead th {\n",
       "        text-align: right;\n",
       "    }\n",
       "</style>\n",
       "<table border=\"1\" class=\"dataframe\">\n",
       "  <thead>\n",
       "    <tr style=\"text-align: right;\">\n",
       "      <th>Gender</th>\n",
       "      <th>Female</th>\n",
       "      <th>Male</th>\n",
       "    </tr>\n",
       "    <tr>\n",
       "      <th>loyalty_flag</th>\n",
       "      <th></th>\n",
       "      <th></th>\n",
       "    </tr>\n",
       "  </thead>\n",
       "  <tbody>\n",
       "    <tr>\n",
       "      <th>Loyal customer</th>\n",
       "      <td>5103187</td>\n",
       "      <td>5180906</td>\n",
       "    </tr>\n",
       "    <tr>\n",
       "      <th>New customer</th>\n",
       "      <td>2385307</td>\n",
       "      <td>2418388</td>\n",
       "    </tr>\n",
       "    <tr>\n",
       "      <th>Regular customer</th>\n",
       "      <td>7889330</td>\n",
       "      <td>7987446</td>\n",
       "    </tr>\n",
       "  </tbody>\n",
       "</table>\n",
       "</div>"
      ],
      "text/plain": [
       "Gender             Female     Male\n",
       "loyalty_flag                      \n",
       "Loyal customer    5103187  5180906\n",
       "New customer      2385307  2418388\n",
       "Regular customer  7889330  7987446"
      ]
     },
     "execution_count": 60,
     "metadata": {},
     "output_type": "execute_result"
    }
   ],
   "source": [
    "crosstab_loyaltyflag_gender"
   ]
  },
  {
   "cell_type": "code",
   "execution_count": 61,
   "id": "76d59dea-c80e-479b-9aa8-fb2274d191f8",
   "metadata": {},
   "outputs": [
    {
     "data": {
      "text/plain": [
       "Text(0, 0.5, '')"
      ]
     },
     "execution_count": 61,
     "metadata": {},
     "output_type": "execute_result"
    },
    {
     "data": {
      "image/png": "[encoded data removed]",
      "text/plain": [
       "<Figure size 800x600 with 1 Axes>"
      ]
     },
     "metadata": {},
     "output_type": "display_data"
    }
   ],
   "source": [
    "#Bar chart\n",
    "Gender_BarChart = crosstab_loyaltyflag_gender.plot(kind = 'barh',figsize=(8,6))\n",
    "plt.title('\"Customer Loyalty by Gender\"')\n",
    "plt.xlabel('count')\n",
    "plt.ylabel('')"
   ]
  },
  {
   "cell_type": "markdown",
   "id": "4e74bcb7-ca92-4cbd-8385-90ea6b8fed03",
   "metadata": {},
   "source": [
    "### Observation:\n",
    "The bar chart compares customer loyalty across genders, showing that male and female customers have similar distributions in all loyalty categories. Regular customers make up the largest group, followed by loyal customers, while new customers have the smallest presence. Male customers slightly outnumber female customers in each category, but the difference is minimal. This indicates that loyalty patterns do not vary significantly by gender, meaning marketing strategies targeting customer retention and engagement can be designed in a gender-neutral manner. The consistent distribution across categories suggests that loyalty is influenced more by factors other than gender, such as purchase frequency or product preferences."
   ]
  },
  {
   "cell_type": "code",
   "execution_count": 63,
   "id": "bfcf41a8-a45b-47db-8ba9-1862223d8ec4",
   "metadata": {},
   "outputs": [],
   "source": [
    "# Exporting the bar chart\n",
    "Gender_BarChart.figure.savefig(os.path.join(path, '04 Analysis','Visualization', 'BarChart_GenderLoyalty.png'))"
   ]
  },
  {
   "cell_type": "code",
   "execution_count": 64,
   "id": "110750ca-d3de-4c84-9c0a-3717fecd3499",
   "metadata": {},
   "outputs": [],
   "source": [
    "Cross_Loyalty_Income = pd.crosstab(Updated_df['loyalty_flag'], Updated_df['Income Group'], dropna = False)"
   ]
  },
  {
   "cell_type": "code",
   "execution_count": 65,
   "id": "71f74118-ea33-4ef9-bc4a-b6cad56ab084",
   "metadata": {},
   "outputs": [
    {
     "data": {
      "text/plain": [
       "Text(0, 0.5, 'count')"
      ]
     },
     "execution_count": 65,
     "metadata": {},
     "output_type": "execute_result"
    },
    {
     "data": {
      "image/png": "[encoded data removed]",
      "text/plain": [
       "<Figure size 640x480 with 1 Axes>"
      ]
     },
     "metadata": {},
     "output_type": "display_data"
    }
   ],
   "source": [
    "# Bar Chart\n",
    "BarChart_LoyaltyIncome = Cross_Loyalty_Income.plot.bar()\n",
    "plt.title('Loyalty by Income Group')\n",
    "plt.xlabel('')\n",
    "plt.ylabel('count')"
   ]
  },
  {
   "cell_type": "markdown",
   "id": "595700bc-772d-443a-8fad-8604b9914d98",
   "metadata": {},
   "source": [
    "### Observation:\n",
    "The bar chart titled \"Loyalty by Income Group\" visualizes the distribution of customer loyalty across different income categories: High, Low, and Middle. The chart compares loyalty levels between two customer groups, with distinct colors representing each income bracket. The data suggests that loyalty levels vary across income groups, with certain segments showing stronger customer retention than others. This insight can be valuable for identifying patterns in consumer behavior and tailoring strategies to enhance engagement among different income demographics"
   ]
  },
  {
   "cell_type": "code",
   "execution_count": 67,
   "id": "8c073b86-d055-4f5e-975c-5cbda9a97c3e",
   "metadata": {},
   "outputs": [],
   "source": [
    "# Exporting the bar chart\n",
    "BarChart_LoyaltyIncome.figure.savefig(os.path.join(path, '04 Analysis','Visualization', 'BarChart_LoyaltyIncome.png'))"
   ]
  },
  {
   "cell_type": "code",
   "execution_count": 68,
   "id": "e695dd3a-9a0e-43d7-93a3-5a5095e56b1d",
   "metadata": {},
   "outputs": [],
   "source": [
    "Cross_Age_Busiestdays = pd.crosstab(Updated_df['Age Group'], Updated_df['busiest_days'], dropna = False)"
   ]
  },
  {
   "cell_type": "code",
   "execution_count": 69,
   "id": "1c590f3f-fd7f-43cf-9754-35af782ebc75",
   "metadata": {},
   "outputs": [
    {
     "data": {
      "text/plain": [
       "Text(0, 0.5, 'Count')"
      ]
     },
     "execution_count": 69,
     "metadata": {},
     "output_type": "execute_result"
    },
    {
     "data": {
      "image/png": "[encoded data removed]",
      "text/plain": [
       "<Figure size 640x480 with 1 Axes>"
      ]
     },
     "metadata": {},
     "output_type": "display_data"
    }
   ],
   "source": [
    "BarChart_Age_Busiestdays = Cross_Age_Busiestdays.plot.bar()\n",
    "plt.title('Peak Shopping Days by Age Group')\n",
    "plt.xlabel('')\n",
    "plt.ylabel('Count')"
   ]
  },
  {
   "cell_type": "markdown",
   "id": "ad5434d6-c13f-423b-9679-ec06221a19c7",
   "metadata": {},
   "source": [
    "### Observation: \n",
    "The bar chart illustrates how different age groups vary in their shopping activity across the busiest days of the week. Adults make up the largest portion of high-activity shoppers, followed by seniors, while younger individuals represent the smallest segment. This trend suggests that middle-aged and older customers are more consistent in their shopping routines, possibly due to established household needs or work schedules. Younger shoppers, who have the lowest engagement, may exhibit more irregular purchasing patterns. Understanding these trends can help businesses optimize promotions and tailor marketing strategies to align with peak shopping times for each age group."
   ]
  },
  {
   "cell_type": "code",
   "execution_count": 71,
   "id": "5ab0e1f4-8e6e-48ba-bb70-85b5cc062d48",
   "metadata": {},
   "outputs": [],
   "source": [
    "# Exporting the bar chart\n",
    "BarChart_Age_Busiestdays.figure.savefig(os.path.join(path, '04 Analysis','Visualization', 'BarChart_Age_BusiestDays_.png'))"
   ]
  },
  {
   "cell_type": "markdown",
   "id": "bcca6bb6-2fd5-492d-b51e-12bfcaf77b1a",
   "metadata": {},
   "source": [
    "### Data Security:"
   ]
  },
  {
   "cell_type": "markdown",
   "id": "b98e1b5f-c2b8-4008-8ec3-d10c9fa78b21",
   "metadata": {},
   "source": [
    "When handling Instacart’s new data, security risks must be considered, particularly regarding Personally Identifiable Information (PII) such as names, addresses, and payment details. Before analysis, all PII should be anonymized, encrypted, or removed to prevent unauthorized access and ensure compliance with privacy laws like GDPR and CCPA. Secure storage, access controls, and data masking techniques should be implemented to protect customer information. Additionally, ensuring restricted access to sensitive data prevents breaches and maintains confidentiality. Ethical handling of PII safeguards both customers and the company, reducing legal risks and ensuring data integrity.\n",
    "\n",
    "#### To address the security implications of Personally Identifiable Information (PII) in the Instacart data, the following steps should be taken:\n",
    "\n",
    "Inform Senior Colleagues: Raise concerns about potential privacy risks and seek guidance on best practices.\n",
    "\n",
    "Compliance with Data Regulations: Ensure adherence to laws.\n",
    "\n",
    "Anonymization & Encryption: Remove or mask sensitive details such as names, addresses, and financial data to prevent unauthorized linking.\n",
    "\n",
    "Access Control & Secure Storage: Restrict PII access to authorized personnel and store data securely to prevent breaches."
   ]
  },
  {
   "cell_type": "code",
   "execution_count": null,
   "id": "189493a0-752a-4b5d-b683-705d236e3eda",
   "metadata": {},
   "outputs": [],
   "source": []
  }
 ],
 "metadata": {
  "kernelspec": {
   "display_name": "Python [conda env:base] *",
   "language": "python",
   "name": "conda-base-py"
  },
  "language_info": {
   "codemirror_mode": {
    "name": "ipython",
    "version": 3
   },
   "file_extension": ".py",
   "mimetype": "text/x-python",
   "name": "python",
   "nbconvert_exporter": "python",
   "pygments_lexer": "ipython3",
   "version": "3.12.7"
  }
 },
 "nbformat": 4,
 "nbformat_minor": 5
}
