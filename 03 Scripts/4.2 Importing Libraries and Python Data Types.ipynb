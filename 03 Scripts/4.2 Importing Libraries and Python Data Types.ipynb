{
 "cells": [
  {
   "cell_type": "markdown",
   "id": "bfbbd4c2-1e0e-4083-8c97-115a22b1814d",
   "metadata": {},
   "source": [
    "#01.Importing libraries "
   ]
  },
  {
   "cell_type": "code",
   "execution_count": 1,
   "id": "7bf6ecc1-dc29-40dc-a9f6-ef2999ab96bb",
   "metadata": {},
   "outputs": [],
   "source": [
    "# Import Libraries\n",
    "import pandas as pd\n",
    "import numpy as np\n",
    "import os"
   ]
  },
  {
   "cell_type": "markdown",
   "id": "59fcee99-bc5f-4fec-93e9-d7950498762d",
   "metadata": {},
   "source": [
    "#02.Python Data Type"
   ]
  },
  {
   "cell_type": "code",
   "execution_count": 3,
   "id": "a2ce2a70-ba61-4053-b9d9-5ac099b00dcf",
   "metadata": {},
   "outputs": [],
   "source": [
    "a=50\n",
    "b=50"
   ]
  },
  {
   "cell_type": "code",
   "execution_count": 5,
   "id": "dafef492-4adb-46e4-a247-8ac45a86bcc0",
   "metadata": {},
   "outputs": [
    {
     "data": {
      "text/plain": [
       "100"
      ]
     },
     "execution_count": 5,
     "metadata": {},
     "output_type": "execute_result"
    }
   ],
   "source": [
    "a+b"
   ]
  },
  {
   "cell_type": "code",
   "execution_count": 7,
   "id": "940e8e40-4765-470a-93a9-0fc4689ecd30",
   "metadata": {},
   "outputs": [],
   "source": [
    "x=150\n",
    "y=50"
   ]
  },
  {
   "cell_type": "code",
   "execution_count": 11,
   "id": "21f8003a-7b7d-46e8-97f8-a8152d1864e6",
   "metadata": {},
   "outputs": [
    {
     "data": {
      "text/plain": [
       "100"
      ]
     },
     "execution_count": 11,
     "metadata": {},
     "output_type": "execute_result"
    }
   ],
   "source": [
    "x-y"
   ]
  },
  {
   "cell_type": "code",
   "execution_count": 13,
   "id": "3ba03b1b-703f-4809-9c26-ea307665f20f",
   "metadata": {},
   "outputs": [],
   "source": [
    "m=120\n",
    "n=30\n",
    "p=10"
   ]
  },
  {
   "cell_type": "code",
   "execution_count": 15,
   "id": "8ad8b21c-26bb-4f76-a6c2-7d606e4cafe0",
   "metadata": {},
   "outputs": [
    {
     "data": {
      "text/plain": [
       "100"
      ]
     },
     "execution_count": 15,
     "metadata": {},
     "output_type": "execute_result"
    }
   ],
   "source": [
    "m-n+p"
   ]
  },
  {
   "cell_type": "code",
   "execution_count": 17,
   "id": "787ce794-371c-47cb-ab0e-a8f2572a17b9",
   "metadata": {},
   "outputs": [],
   "source": [
    "num1=15.75\n",
    "num2=3.5"
   ]
  },
  {
   "cell_type": "code",
   "execution_count": 19,
   "id": "7743c255-a75c-446f-8bcf-6ca1c1d0b01a",
   "metadata": {},
   "outputs": [
    {
     "data": {
      "text/plain": [
       "4.5"
      ]
     },
     "execution_count": 19,
     "metadata": {},
     "output_type": "execute_result"
    }
   ],
   "source": [
    "num1/num2"
   ]
  },
  {
   "cell_type": "code",
   "execution_count": 21,
   "id": "1875324a-5ac4-439b-9164-2ab2e58e8349",
   "metadata": {},
   "outputs": [],
   "source": [
    "part1='Sun'\n",
    "part2='Shine'\n"
   ]
  },
  {
   "cell_type": "code",
   "execution_count": 23,
   "id": "4bd0e3aa-dae2-4152-9097-980bde31cde7",
   "metadata": {},
   "outputs": [
    {
     "data": {
      "text/plain": [
       "'SunShine'"
      ]
     },
     "execution_count": 23,
     "metadata": {},
     "output_type": "execute_result"
    }
   ],
   "source": [
    "part1+part2"
   ]
  },
  {
   "cell_type": "code",
   "execution_count": 25,
   "id": "95c2c97b-0bea-46c5-9a80-b8ba31f2d305",
   "metadata": {},
   "outputs": [],
   "source": [
    "part3=\"learning Python\"\n",
    "part4=\"is fun!\""
   ]
  },
  {
   "cell_type": "code",
   "execution_count": 29,
   "id": "40ca0326-55b2-447d-99ba-db956e0f3d1f",
   "metadata": {},
   "outputs": [
    {
     "data": {
      "text/plain": [
       "'learning Python is fun!'"
      ]
     },
     "execution_count": 29,
     "metadata": {},
     "output_type": "execute_result"
    }
   ],
   "source": [
    "part3+\" \"+part4"
   ]
  },
  {
   "cell_type": "code",
   "execution_count": 35,
   "id": "cd3e84a9-234d-468f-bf59-0aed316130f0",
   "metadata": {},
   "outputs": [],
   "source": [
    "start1='coding'\n",
    "end1='is creative!'"
   ]
  },
  {
   "cell_type": "code",
   "execution_count": 37,
   "id": "2db75d0d-0caa-4126-b8e4-765a46df9821",
   "metadata": {},
   "outputs": [
    {
     "data": {
      "text/plain": [
       "'coding is creative!'"
      ]
     },
     "execution_count": 37,
     "metadata": {},
     "output_type": "execute_result"
    }
   ],
   "source": [
    "start1+' '+end1"
   ]
  },
  {
   "cell_type": "code",
   "execution_count": null,
   "id": "a13ccaa1-642b-4b51-ae18-01b2eaed5ad1",
   "metadata": {},
   "outputs": [],
   "source": []
  }
 ],
 "metadata": {
  "kernelspec": {
   "display_name": "Python [conda env:base] *",
   "language": "python",
   "name": "conda-base-py"
  },
  "language_info": {
   "codemirror_mode": {
    "name": "ipython",
    "version": 3
   },
   "file_extension": ".py",
   "mimetype": "text/x-python",
   "name": "python",
   "nbconvert_exporter": "python",
   "pygments_lexer": "ipython3",
   "version": "3.12.7"
  }
 },
 "nbformat": 4,
 "nbformat_minor": 5
}
